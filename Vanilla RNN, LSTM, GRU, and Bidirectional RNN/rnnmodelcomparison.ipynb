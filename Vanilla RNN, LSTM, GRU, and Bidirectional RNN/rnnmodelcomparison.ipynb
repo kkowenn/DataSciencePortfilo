{
 "cells": [
  {
   "cell_type": "markdown",
   "id": "dca08c31",
   "metadata": {
    "id": "jQB1NvvtcQBk",
    "papermill": {
     "duration": 0.013949,
     "end_time": "2024-06-11T02:37:02.539200",
     "exception": false,
     "start_time": "2024-06-11T02:37:02.525251",
     "status": "completed"
    },
    "tags": []
   },
   "source": [
    "ref and acknowledge:\n",
    "https://www.udemy.com/course/tensorflow-developer-certificate-machine-learning-zero-to-mastery\n"
   ]
  },
  {
   "cell_type": "markdown",
   "id": "71ee61ae",
   "metadata": {
    "id": "Tube4O5C7UA2",
    "papermill": {
     "duration": 0.013018,
     "end_time": "2024-06-11T02:37:02.565844",
     "exception": false,
     "start_time": "2024-06-11T02:37:02.552826",
     "status": "completed"
    },
    "tags": []
   },
   "source": [
    "# Data preparation and preprocessing:"
   ]
  },
  {
   "cell_type": "code",
   "execution_count": 1,
   "id": "dc54470e",
   "metadata": {
    "execution": {
     "iopub.execute_input": "2024-06-11T02:37:02.594458Z",
     "iopub.status.busy": "2024-06-11T02:37:02.594015Z",
     "iopub.status.idle": "2024-06-11T02:37:21.176963Z",
     "shell.execute_reply": "2024-06-11T02:37:21.175734Z"
    },
    "id": "5ZPvUt5y7TuS",
    "papermill": {
     "duration": 18.600762,
     "end_time": "2024-06-11T02:37:21.180012",
     "exception": false,
     "start_time": "2024-06-11T02:37:02.579250",
     "status": "completed"
    },
    "tags": []
   },
   "outputs": [
    {
     "name": "stderr",
     "output_type": "stream",
     "text": [
      "2024-06-11 02:37:08.128327: E external/local_xla/xla/stream_executor/cuda/cuda_dnn.cc:9261] Unable to register cuDNN factory: Attempting to register factory for plugin cuDNN when one has already been registered\n",
      "2024-06-11 02:37:08.128501: E external/local_xla/xla/stream_executor/cuda/cuda_fft.cc:607] Unable to register cuFFT factory: Attempting to register factory for plugin cuFFT when one has already been registered\n",
      "2024-06-11 02:37:08.336372: E external/local_xla/xla/stream_executor/cuda/cuda_blas.cc:1515] Unable to register cuBLAS factory: Attempting to register factory for plugin cuBLAS when one has already been registered\n"
     ]
    }
   ],
   "source": [
    "import os\n",
    "import random\n",
    "import zipfile\n",
    "import pandas as pd\n",
    "import numpy as np\n",
    "import pandas as pd\n",
    "import matplotlib.pyplot as plt\n",
    "from sklearn.model_selection import train_test_split\n",
    "\n",
    "import tensorflow as tf"
   ]
  },
  {
   "cell_type": "code",
   "execution_count": 2,
   "id": "d4afa462",
   "metadata": {
    "execution": {
     "iopub.execute_input": "2024-06-11T02:37:21.218017Z",
     "iopub.status.busy": "2024-06-11T02:37:21.217271Z",
     "iopub.status.idle": "2024-06-11T02:37:21.509097Z",
     "shell.execute_reply": "2024-06-11T02:37:21.507640Z"
    },
    "id": "5WjikGXKAtik",
    "outputId": "2673bb2b-05b5-4750-ff57-0f11df039d54",
    "papermill": {
     "duration": 0.314302,
     "end_time": "2024-06-11T02:37:21.511981",
     "exception": false,
     "start_time": "2024-06-11T02:37:21.197679",
     "status": "completed"
    },
    "tags": []
   },
   "outputs": [
    {
     "data": {
      "text/html": [
       "<div>\n",
       "<style scoped>\n",
       "    .dataframe tbody tr th:only-of-type {\n",
       "        vertical-align: middle;\n",
       "    }\n",
       "\n",
       "    .dataframe tbody tr th {\n",
       "        vertical-align: top;\n",
       "    }\n",
       "\n",
       "    .dataframe thead th {\n",
       "        text-align: right;\n",
       "    }\n",
       "</style>\n",
       "<table border=\"1\" class=\"dataframe\">\n",
       "  <thead>\n",
       "    <tr style=\"text-align: right;\">\n",
       "      <th></th>\n",
       "      <th>is_sarcastic</th>\n",
       "      <th>headline</th>\n",
       "      <th>article_link</th>\n",
       "    </tr>\n",
       "  </thead>\n",
       "  <tbody>\n",
       "    <tr>\n",
       "      <th>0</th>\n",
       "      <td>1</td>\n",
       "      <td>thirtysomething scientists unveil doomsday clo...</td>\n",
       "      <td>https://www.theonion.com/thirtysomething-scien...</td>\n",
       "    </tr>\n",
       "    <tr>\n",
       "      <th>1</th>\n",
       "      <td>0</td>\n",
       "      <td>dem rep. totally nails why congress is falling...</td>\n",
       "      <td>https://www.huffingtonpost.com/entry/donna-edw...</td>\n",
       "    </tr>\n",
       "    <tr>\n",
       "      <th>2</th>\n",
       "      <td>0</td>\n",
       "      <td>eat your veggies: 9 deliciously different recipes</td>\n",
       "      <td>https://www.huffingtonpost.com/entry/eat-your-...</td>\n",
       "    </tr>\n",
       "    <tr>\n",
       "      <th>3</th>\n",
       "      <td>1</td>\n",
       "      <td>inclement weather prevents liar from getting t...</td>\n",
       "      <td>https://local.theonion.com/inclement-weather-p...</td>\n",
       "    </tr>\n",
       "    <tr>\n",
       "      <th>4</th>\n",
       "      <td>1</td>\n",
       "      <td>mother comes pretty close to using word 'strea...</td>\n",
       "      <td>https://www.theonion.com/mother-comes-pretty-c...</td>\n",
       "    </tr>\n",
       "  </tbody>\n",
       "</table>\n",
       "</div>"
      ],
      "text/plain": [
       "   is_sarcastic                                           headline  \\\n",
       "0             1  thirtysomething scientists unveil doomsday clo...   \n",
       "1             0  dem rep. totally nails why congress is falling...   \n",
       "2             0  eat your veggies: 9 deliciously different recipes   \n",
       "3             1  inclement weather prevents liar from getting t...   \n",
       "4             1  mother comes pretty close to using word 'strea...   \n",
       "\n",
       "                                        article_link  \n",
       "0  https://www.theonion.com/thirtysomething-scien...  \n",
       "1  https://www.huffingtonpost.com/entry/donna-edw...  \n",
       "2  https://www.huffingtonpost.com/entry/eat-your-...  \n",
       "3  https://local.theonion.com/inclement-weather-p...  \n",
       "4  https://www.theonion.com/mother-comes-pretty-c...  "
      ]
     },
     "execution_count": 2,
     "metadata": {},
     "output_type": "execute_result"
    }
   ],
   "source": [
    "file_path = '/kaggle/input/news-headlines-dataset-for-sarcasm-detection/Sarcasm_Headlines_Dataset_v2.json'\n",
    "df = pd.read_json(file_path, lines=True)\n",
    "\n",
    "df.head()"
   ]
  },
  {
   "cell_type": "code",
   "execution_count": 3,
   "id": "04e58ac8",
   "metadata": {
    "execution": {
     "iopub.execute_input": "2024-06-11T02:37:21.542603Z",
     "iopub.status.busy": "2024-06-11T02:37:21.542183Z",
     "iopub.status.idle": "2024-06-11T02:37:21.555921Z",
     "shell.execute_reply": "2024-06-11T02:37:21.554773Z"
    },
    "id": "wFPVhMyCCh0n",
    "outputId": "c21f4a9c-4c7f-4c10-c030-625ddff8ae09",
    "papermill": {
     "duration": 0.032167,
     "end_time": "2024-06-11T02:37:21.558435",
     "exception": false,
     "start_time": "2024-06-11T02:37:21.526268",
     "status": "completed"
    },
    "tags": []
   },
   "outputs": [
    {
     "data": {
      "text/html": [
       "<div>\n",
       "<style scoped>\n",
       "    .dataframe tbody tr th:only-of-type {\n",
       "        vertical-align: middle;\n",
       "    }\n",
       "\n",
       "    .dataframe tbody tr th {\n",
       "        vertical-align: top;\n",
       "    }\n",
       "\n",
       "    .dataframe thead th {\n",
       "        text-align: right;\n",
       "    }\n",
       "</style>\n",
       "<table border=\"1\" class=\"dataframe\">\n",
       "  <thead>\n",
       "    <tr style=\"text-align: right;\">\n",
       "      <th></th>\n",
       "      <th>label</th>\n",
       "      <th>text</th>\n",
       "      <th>article_link</th>\n",
       "    </tr>\n",
       "  </thead>\n",
       "  <tbody>\n",
       "    <tr>\n",
       "      <th>0</th>\n",
       "      <td>1</td>\n",
       "      <td>thirtysomething scientists unveil doomsday clo...</td>\n",
       "      <td>https://www.theonion.com/thirtysomething-scien...</td>\n",
       "    </tr>\n",
       "    <tr>\n",
       "      <th>1</th>\n",
       "      <td>0</td>\n",
       "      <td>dem rep. totally nails why congress is falling...</td>\n",
       "      <td>https://www.huffingtonpost.com/entry/donna-edw...</td>\n",
       "    </tr>\n",
       "    <tr>\n",
       "      <th>2</th>\n",
       "      <td>0</td>\n",
       "      <td>eat your veggies: 9 deliciously different recipes</td>\n",
       "      <td>https://www.huffingtonpost.com/entry/eat-your-...</td>\n",
       "    </tr>\n",
       "    <tr>\n",
       "      <th>3</th>\n",
       "      <td>1</td>\n",
       "      <td>inclement weather prevents liar from getting t...</td>\n",
       "      <td>https://local.theonion.com/inclement-weather-p...</td>\n",
       "    </tr>\n",
       "    <tr>\n",
       "      <th>4</th>\n",
       "      <td>1</td>\n",
       "      <td>mother comes pretty close to using word 'strea...</td>\n",
       "      <td>https://www.theonion.com/mother-comes-pretty-c...</td>\n",
       "    </tr>\n",
       "  </tbody>\n",
       "</table>\n",
       "</div>"
      ],
      "text/plain": [
       "   label                                               text  \\\n",
       "0      1  thirtysomething scientists unveil doomsday clo...   \n",
       "1      0  dem rep. totally nails why congress is falling...   \n",
       "2      0  eat your veggies: 9 deliciously different recipes   \n",
       "3      1  inclement weather prevents liar from getting t...   \n",
       "4      1  mother comes pretty close to using word 'strea...   \n",
       "\n",
       "                                        article_link  \n",
       "0  https://www.theonion.com/thirtysomething-scien...  \n",
       "1  https://www.huffingtonpost.com/entry/donna-edw...  \n",
       "2  https://www.huffingtonpost.com/entry/eat-your-...  \n",
       "3  https://local.theonion.com/inclement-weather-p...  \n",
       "4  https://www.theonion.com/mother-comes-pretty-c...  "
      ]
     },
     "execution_count": 3,
     "metadata": {},
     "output_type": "execute_result"
    }
   ],
   "source": [
    "df = df.rename(columns={'is_sarcastic': 'label', 'headline': 'text'})\n",
    "\n",
    "# Display the updated DataFrame\n",
    "df.head()"
   ]
  },
  {
   "cell_type": "code",
   "execution_count": 4,
   "id": "24d5dd44",
   "metadata": {
    "execution": {
     "iopub.execute_input": "2024-06-11T02:37:21.589571Z",
     "iopub.status.busy": "2024-06-11T02:37:21.588799Z",
     "iopub.status.idle": "2024-06-11T02:37:21.622742Z",
     "shell.execute_reply": "2024-06-11T02:37:21.621345Z"
    },
    "id": "rr0dHsaMC6Od",
    "outputId": "98e4eaf4-f38f-4830-cec3-2950869785a6",
    "papermill": {
     "duration": 0.052331,
     "end_time": "2024-06-11T02:37:21.625469",
     "exception": false,
     "start_time": "2024-06-11T02:37:21.573138",
     "status": "completed"
    },
    "tags": []
   },
   "outputs": [
    {
     "name": "stdout",
     "output_type": "stream",
     "text": [
      "Training set shape: (20033,) (20033,)\n",
      "Testing set shape: (8586,) (8586,)\n",
      "Label 1: narcissist convinced total strangers would want his organs\n",
      "Label 0: hillary clinton: college costs are 'outrageously high'\n"
     ]
    }
   ],
   "source": [
    "X = df['text']  # Input features (text)\n",
    "y = df['label']  # Target variable\n",
    "\n",
    "# Split the data into training and testing sets\n",
    "X_train, X_test, y_train, y_test = train_test_split(X, y, test_size=0.3, random_state=42)\n",
    "\n",
    "# Print the shapes of the training and testing sets to verify the split\n",
    "print(\"Training set shape:\", X_train.shape, y_train.shape)\n",
    "print(\"Testing set shape:\", X_test.shape, y_test.shape)\n",
    "\n",
    "# Create a dictionary to store randomly selected texts for each label\n",
    "selected_texts = {}\n",
    "\n",
    "# Iterate over each label (0 and 1) and randomly select one text\n",
    "for label in df['label'].unique():\n",
    "    texts = df[df['label'] == label]['text'].tolist()  # Get all texts for the current label\n",
    "    selected_text = random.choice(texts)  # Randomly select one text\n",
    "    selected_texts[label] = selected_text  # Store the selected text in the dictionary\n",
    "\n",
    "# Print the randomly selected texts for each label\n",
    "for label, text in selected_texts.items():\n",
    "    print(f\"Label {label}: {text}\")"
   ]
  },
  {
   "cell_type": "code",
   "execution_count": 5,
   "id": "ccc82551",
   "metadata": {
    "execution": {
     "iopub.execute_input": "2024-06-11T02:37:21.657301Z",
     "iopub.status.busy": "2024-06-11T02:37:21.656855Z",
     "iopub.status.idle": "2024-06-11T02:37:21.668828Z",
     "shell.execute_reply": "2024-06-11T02:37:21.667544Z"
    },
    "id": "OMw-8LdWGLXg",
    "outputId": "849afaba-51e0-44e0-e740-5fb05845b914",
    "papermill": {
     "duration": 0.030513,
     "end_time": "2024-06-11T02:37:21.671392",
     "exception": false,
     "start_time": "2024-06-11T02:37:21.640879",
     "status": "completed"
    },
    "tags": []
   },
   "outputs": [
    {
     "name": "stdout",
     "output_type": "stream",
     "text": [
      "New training set shape: (14023,) (14023,)\n",
      "Validation set shape: (6010,) (6010,)\n"
     ]
    }
   ],
   "source": [
    "# Let's say we want to use 70% of the training data for training and 20% for validation\n",
    "X_train, X_val, y_train, y_val = train_test_split(X_train, y_train, test_size=0.3, random_state=42)\n",
    "\n",
    "# Print the shapes of the new training and validation sets to verify the split\n",
    "print(\"New training set shape:\", X_train.shape, y_train.shape)\n",
    "print(\"Validation set shape:\", X_val.shape, y_val.shape)"
   ]
  },
  {
   "cell_type": "markdown",
   "id": "b79c6338",
   "metadata": {
    "id": "zQw8GP0gDh2s",
    "papermill": {
     "duration": 0.014117,
     "end_time": "2024-06-11T02:37:21.700298",
     "exception": false,
     "start_time": "2024-06-11T02:37:21.686181",
     "status": "completed"
    },
    "tags": []
   },
   "source": [
    "## Text vectorization"
   ]
  },
  {
   "cell_type": "code",
   "execution_count": 6,
   "id": "bffc6b32",
   "metadata": {
    "execution": {
     "iopub.execute_input": "2024-06-11T02:37:21.731324Z",
     "iopub.status.busy": "2024-06-11T02:37:21.730902Z",
     "iopub.status.idle": "2024-06-11T02:37:21.784258Z",
     "shell.execute_reply": "2024-06-11T02:37:21.782220Z"
    },
    "id": "YnL0yLcQDn9E",
    "papermill": {
     "duration": 0.073151,
     "end_time": "2024-06-11T02:37:21.788175",
     "exception": false,
     "start_time": "2024-06-11T02:37:21.715024",
     "status": "completed"
    },
    "tags": []
   },
   "outputs": [],
   "source": [
    "from tensorflow.keras.layers import TextVectorization\n",
    "\n",
    "# Use the default TextVectorization variables\n",
    "text_vectorizer = TextVectorization(max_tokens=None, # how many words in the vocabulary (all of the different words in your text)\n",
    "                                    standardize=\"lower_and_strip_punctuation\", # how to process text\n",
    "                                    split=\"whitespace\", # how to split tokens\n",
    "                                    ngrams=None, # create groups of n-words?\n",
    "                                    output_mode=\"int\", # how to map tokens to numbers\n",
    "                                    output_sequence_length=None) # how long should the output sequence of tokens be?\n",
    "                                    # pad_to_max_tokens=True) # Not valid if using max_tokens=None"
   ]
  },
  {
   "cell_type": "code",
   "execution_count": 7,
   "id": "d22621e4",
   "metadata": {
    "execution": {
     "iopub.execute_input": "2024-06-11T02:37:21.832637Z",
     "iopub.status.busy": "2024-06-11T02:37:21.832226Z",
     "iopub.status.idle": "2024-06-11T02:37:21.868195Z",
     "shell.execute_reply": "2024-06-11T02:37:21.866850Z"
    },
    "id": "oJVzzoADDtWT",
    "outputId": "c83b5bbc-c6b6-4c10-aeb0-e6bda3489721",
    "papermill": {
     "duration": 0.05993,
     "end_time": "2024-06-11T02:37:21.870943",
     "exception": false,
     "start_time": "2024-06-11T02:37:21.811013",
     "status": "completed"
    },
    "tags": []
   },
   "outputs": [
    {
     "data": {
      "text/plain": [
       "10"
      ]
     },
     "execution_count": 7,
     "metadata": {},
     "output_type": "execute_result"
    }
   ],
   "source": [
    "# Find average number of tokens (words) in training Tweets\n",
    "round(sum([len(i.split()) for i in X_train])/len(X_train))"
   ]
  },
  {
   "cell_type": "code",
   "execution_count": 8,
   "id": "8aaba3ae",
   "metadata": {
    "execution": {
     "iopub.execute_input": "2024-06-11T02:37:21.902718Z",
     "iopub.status.busy": "2024-06-11T02:37:21.902283Z",
     "iopub.status.idle": "2024-06-11T02:37:21.916559Z",
     "shell.execute_reply": "2024-06-11T02:37:21.915009Z"
    },
    "id": "iwzAcNgfDxDz",
    "papermill": {
     "duration": 0.033657,
     "end_time": "2024-06-11T02:37:21.919620",
     "exception": false,
     "start_time": "2024-06-11T02:37:21.885963",
     "status": "completed"
    },
    "tags": []
   },
   "outputs": [],
   "source": [
    "# Setup text vectorization with custom variables\n",
    "max_vocab_length = 10000 # max number of words to have in our vocabulary\n",
    "max_length = 10 # max length our sequences will be (e.g. how many words from a Tweet does our model see?)\n",
    "\n",
    "text_vectorizer = TextVectorization(max_tokens=max_vocab_length,\n",
    "                                    output_mode=\"int\",\n",
    "                                    output_sequence_length=max_length)"
   ]
  },
  {
   "cell_type": "markdown",
   "id": "93fc0e63",
   "metadata": {
    "id": "Flbt9BLhD0df",
    "papermill": {
     "duration": 0.01475,
     "end_time": "2024-06-11T02:37:21.950154",
     "exception": false,
     "start_time": "2024-06-11T02:37:21.935404",
     "status": "completed"
    },
    "tags": []
   },
   "source": [
    "To map our TextVectorization instance text_vectorizer to our data,\n",
    "\n",
    "we can call the adapt() method on it whilst passing it our training text."
   ]
  },
  {
   "cell_type": "code",
   "execution_count": 9,
   "id": "b1265777",
   "metadata": {
    "execution": {
     "iopub.execute_input": "2024-06-11T02:37:21.982344Z",
     "iopub.status.busy": "2024-06-11T02:37:21.981918Z",
     "iopub.status.idle": "2024-06-11T02:37:22.176730Z",
     "shell.execute_reply": "2024-06-11T02:37:22.175210Z"
    },
    "id": "Z7DfImhRD54A",
    "papermill": {
     "duration": 0.214478,
     "end_time": "2024-06-11T02:37:22.179966",
     "exception": false,
     "start_time": "2024-06-11T02:37:21.965488",
     "status": "completed"
    },
    "tags": []
   },
   "outputs": [],
   "source": [
    "# Fit the text vectorizer to the training text\n",
    "text_vectorizer.adapt(X_train)"
   ]
  },
  {
   "cell_type": "code",
   "execution_count": 10,
   "id": "0a18ad9b",
   "metadata": {
    "execution": {
     "iopub.execute_input": "2024-06-11T02:37:22.212341Z",
     "iopub.status.busy": "2024-06-11T02:37:22.211903Z",
     "iopub.status.idle": "2024-06-11T02:37:22.316600Z",
     "shell.execute_reply": "2024-06-11T02:37:22.315633Z"
    },
    "id": "Xhqy-xI7IR4b",
    "papermill": {
     "duration": 0.124328,
     "end_time": "2024-06-11T02:37:22.319447",
     "exception": false,
     "start_time": "2024-06-11T02:37:22.195119",
     "status": "completed"
    },
    "tags": []
   },
   "outputs": [],
   "source": [
    "# Vectorize the training and validation text\n",
    "X_train_vect = text_vectorizer(X_train)\n",
    "X_val_vect = text_vectorizer(X_val)"
   ]
  },
  {
   "cell_type": "code",
   "execution_count": 11,
   "id": "4c587b41",
   "metadata": {
    "execution": {
     "iopub.execute_input": "2024-06-11T02:37:22.351603Z",
     "iopub.status.busy": "2024-06-11T02:37:22.351200Z",
     "iopub.status.idle": "2024-06-11T02:37:22.377384Z",
     "shell.execute_reply": "2024-06-11T02:37:22.376128Z"
    },
    "id": "b_-BCx_iD8bf",
    "outputId": "71744964-11b2-4b91-b7fd-adc38971f95f",
    "papermill": {
     "duration": 0.045598,
     "end_time": "2024-06-11T02:37:22.380175",
     "exception": false,
     "start_time": "2024-06-11T02:37:22.334577",
     "status": "completed"
    },
    "tags": []
   },
   "outputs": [
    {
     "data": {
      "text/plain": [
       "<tf.Tensor: shape=(10,), dtype=int64, numpy=array([ 865,   34,    1,  700,    1,  597, 1125,    0,    0,    0])>"
      ]
     },
     "execution_count": 11,
     "metadata": {},
     "output_type": "execute_result"
    }
   ],
   "source": [
    "sample = \"eat your veggies: 9 deliciously different recipes\"\n",
    "text_vectorizer(sample)"
   ]
  },
  {
   "cell_type": "code",
   "execution_count": 12,
   "id": "85b2d5c9",
   "metadata": {
    "execution": {
     "iopub.execute_input": "2024-06-11T02:37:22.412882Z",
     "iopub.status.busy": "2024-06-11T02:37:22.412439Z",
     "iopub.status.idle": "2024-06-11T02:37:22.432853Z",
     "shell.execute_reply": "2024-06-11T02:37:22.431645Z"
    },
    "id": "Ns1Jf8THEV8b",
    "outputId": "f50099cd-c2d5-4cbb-a752-5473d15f8468",
    "papermill": {
     "duration": 0.039842,
     "end_time": "2024-06-11T02:37:22.435487",
     "exception": false,
     "start_time": "2024-06-11T02:37:22.395645",
     "status": "completed"
    },
    "tags": []
   },
   "outputs": [
    {
     "name": "stdout",
     "output_type": "stream",
     "text": [
      "Text: kentucky governor's crime plan: volunteer 'prayer patrols' roaming the streets\n",
      "Label: 0\n"
     ]
    },
    {
     "data": {
      "text/plain": [
       "<tf.Tensor: shape=(10,), dtype=int64, numpy=array([2671, 4929, 1331,  204, 3680, 3305,    1,    1,    4, 1908])>"
      ]
     },
     "execution_count": 12,
     "metadata": {},
     "output_type": "execute_result"
    }
   ],
   "source": [
    "# Get the random sample's text and its index\n",
    "random_sample = X_train.sample(1)\n",
    "random_train_text = random_sample.values[0]\n",
    "random_train_index = random_sample.index[0]\n",
    "\n",
    "# Print the selected text\n",
    "print(\"Text:\", random_train_text)\n",
    "\n",
    "# Use the index to get the corresponding label\n",
    "random_train_label = y_train.loc[random_train_index]\n",
    "print(\"Label:\", random_train_label)\n",
    "\n",
    "text_vectorizer(random_train_text)"
   ]
  },
  {
   "cell_type": "code",
   "execution_count": 13,
   "id": "ee19d669",
   "metadata": {
    "execution": {
     "iopub.execute_input": "2024-06-11T02:37:22.469100Z",
     "iopub.status.busy": "2024-06-11T02:37:22.467885Z",
     "iopub.status.idle": "2024-06-11T02:37:22.524197Z",
     "shell.execute_reply": "2024-06-11T02:37:22.522772Z"
    },
    "id": "pEqcdj9bEbiv",
    "outputId": "471813b7-d4f8-493a-a5a6-145bff438bb6",
    "papermill": {
     "duration": 0.076217,
     "end_time": "2024-06-11T02:37:22.527314",
     "exception": false,
     "start_time": "2024-06-11T02:37:22.451097",
     "status": "completed"
    },
    "tags": []
   },
   "outputs": [
    {
     "name": "stdout",
     "output_type": "stream",
     "text": [
      "Number of words in vocab: 10000\n",
      "Top 5 most common words: ['', '[UNK]', 'to', 'of', 'the']\n",
      "Bottom 5 least common words: ['arrogance', 'arriving', 'arrived', 'arresting', 'array']\n"
     ]
    }
   ],
   "source": [
    "# Get the unique words in the vocabulary\n",
    "words_in_vocab = text_vectorizer.get_vocabulary()\n",
    "top_5_words = words_in_vocab[:5] # most common tokens (notice the [UNK] token for \"unknown\" words)\n",
    "bottom_5_words = words_in_vocab[-5:] # least common tokens\n",
    "print(f\"Number of words in vocab: {len(words_in_vocab)}\")\n",
    "print(f\"Top 5 most common words: {top_5_words}\")\n",
    "print(f\"Bottom 5 least common words: {bottom_5_words}\")"
   ]
  },
  {
   "cell_type": "markdown",
   "id": "c87c7b5a",
   "metadata": {
    "id": "PYEzYlKEEee9",
    "papermill": {
     "duration": 0.015719,
     "end_time": "2024-06-11T02:37:22.558986",
     "exception": false,
     "start_time": "2024-06-11T02:37:22.543267",
     "status": "completed"
    },
    "tags": []
   },
   "source": [
    "## embedding"
   ]
  },
  {
   "cell_type": "code",
   "execution_count": 14,
   "id": "ae74dcf7",
   "metadata": {
    "execution": {
     "iopub.execute_input": "2024-06-11T02:37:22.592669Z",
     "iopub.status.busy": "2024-06-11T02:37:22.592278Z",
     "iopub.status.idle": "2024-06-11T02:37:22.604504Z",
     "shell.execute_reply": "2024-06-11T02:37:22.603348Z"
    },
    "id": "_0NM2PwbEcvL",
    "outputId": "af3cd668-cfc3-4f4c-83c5-8208fbb2f1c6",
    "papermill": {
     "duration": 0.03179,
     "end_time": "2024-06-11T02:37:22.606911",
     "exception": false,
     "start_time": "2024-06-11T02:37:22.575121",
     "status": "completed"
    },
    "tags": []
   },
   "outputs": [
    {
     "data": {
      "text/plain": [
       "<Embedding name=embedding_1, built=False>"
      ]
     },
     "execution_count": 14,
     "metadata": {},
     "output_type": "execute_result"
    }
   ],
   "source": [
    "tf.random.set_seed(42)\n",
    "from tensorflow.keras import layers\n",
    "\n",
    "embedding = layers.Embedding(input_dim=max_vocab_length, # set input shape\n",
    "                             output_dim=128, # set size of embedding vector\n",
    "                             embeddings_initializer=\"uniform\", # default, intialize randomly\n",
    "                             # input_length=max_length, # how long is each input\n",
    "                             name=\"embedding_1\")\n",
    "\n",
    "embedding"
   ]
  },
  {
   "cell_type": "code",
   "execution_count": 15,
   "id": "67f3a00d",
   "metadata": {
    "execution": {
     "iopub.execute_input": "2024-06-11T02:37:22.641227Z",
     "iopub.status.busy": "2024-06-11T02:37:22.640340Z",
     "iopub.status.idle": "2024-06-11T02:37:23.012627Z",
     "shell.execute_reply": "2024-06-11T02:37:23.011359Z"
    },
    "id": "d8ovZtG1FlGx",
    "outputId": "dcd86ac9-d918-4efd-dc42-41eb4d1b664d",
    "papermill": {
     "duration": 0.392305,
     "end_time": "2024-06-11T02:37:23.015321",
     "exception": false,
     "start_time": "2024-06-11T02:37:22.623016",
     "status": "completed"
    },
    "tags": []
   },
   "outputs": [
    {
     "data": {
      "text/html": [
       "<style>#sk-container-id-1 {color: black;background-color: white;}#sk-container-id-1 pre{padding: 0;}#sk-container-id-1 div.sk-toggleable {background-color: white;}#sk-container-id-1 label.sk-toggleable__label {cursor: pointer;display: block;width: 100%;margin-bottom: 0;padding: 0.3em;box-sizing: border-box;text-align: center;}#sk-container-id-1 label.sk-toggleable__label-arrow:before {content: \"▸\";float: left;margin-right: 0.25em;color: #696969;}#sk-container-id-1 label.sk-toggleable__label-arrow:hover:before {color: black;}#sk-container-id-1 div.sk-estimator:hover label.sk-toggleable__label-arrow:before {color: black;}#sk-container-id-1 div.sk-toggleable__content {max-height: 0;max-width: 0;overflow: hidden;text-align: left;background-color: #f0f8ff;}#sk-container-id-1 div.sk-toggleable__content pre {margin: 0.2em;color: black;border-radius: 0.25em;background-color: #f0f8ff;}#sk-container-id-1 input.sk-toggleable__control:checked~div.sk-toggleable__content {max-height: 200px;max-width: 100%;overflow: auto;}#sk-container-id-1 input.sk-toggleable__control:checked~label.sk-toggleable__label-arrow:before {content: \"▾\";}#sk-container-id-1 div.sk-estimator input.sk-toggleable__control:checked~label.sk-toggleable__label {background-color: #d4ebff;}#sk-container-id-1 div.sk-label input.sk-toggleable__control:checked~label.sk-toggleable__label {background-color: #d4ebff;}#sk-container-id-1 input.sk-hidden--visually {border: 0;clip: rect(1px 1px 1px 1px);clip: rect(1px, 1px, 1px, 1px);height: 1px;margin: -1px;overflow: hidden;padding: 0;position: absolute;width: 1px;}#sk-container-id-1 div.sk-estimator {font-family: monospace;background-color: #f0f8ff;border: 1px dotted black;border-radius: 0.25em;box-sizing: border-box;margin-bottom: 0.5em;}#sk-container-id-1 div.sk-estimator:hover {background-color: #d4ebff;}#sk-container-id-1 div.sk-parallel-item::after {content: \"\";width: 100%;border-bottom: 1px solid gray;flex-grow: 1;}#sk-container-id-1 div.sk-label:hover label.sk-toggleable__label {background-color: #d4ebff;}#sk-container-id-1 div.sk-serial::before {content: \"\";position: absolute;border-left: 1px solid gray;box-sizing: border-box;top: 0;bottom: 0;left: 50%;z-index: 0;}#sk-container-id-1 div.sk-serial {display: flex;flex-direction: column;align-items: center;background-color: white;padding-right: 0.2em;padding-left: 0.2em;position: relative;}#sk-container-id-1 div.sk-item {position: relative;z-index: 1;}#sk-container-id-1 div.sk-parallel {display: flex;align-items: stretch;justify-content: center;background-color: white;position: relative;}#sk-container-id-1 div.sk-item::before, #sk-container-id-1 div.sk-parallel-item::before {content: \"\";position: absolute;border-left: 1px solid gray;box-sizing: border-box;top: 0;bottom: 0;left: 50%;z-index: -1;}#sk-container-id-1 div.sk-parallel-item {display: flex;flex-direction: column;z-index: 1;position: relative;background-color: white;}#sk-container-id-1 div.sk-parallel-item:first-child::after {align-self: flex-end;width: 50%;}#sk-container-id-1 div.sk-parallel-item:last-child::after {align-self: flex-start;width: 50%;}#sk-container-id-1 div.sk-parallel-item:only-child::after {width: 0;}#sk-container-id-1 div.sk-dashed-wrapped {border: 1px dashed gray;margin: 0 0.4em 0.5em 0.4em;box-sizing: border-box;padding-bottom: 0.4em;background-color: white;}#sk-container-id-1 div.sk-label label {font-family: monospace;font-weight: bold;display: inline-block;line-height: 1.2em;}#sk-container-id-1 div.sk-label-container {text-align: center;}#sk-container-id-1 div.sk-container {/* jupyter's `normalize.less` sets `[hidden] { display: none; }` but bootstrap.min.css set `[hidden] { display: none !important; }` so we also need the `!important` here to be able to override the default hidden behavior on the sphinx rendered scikit-learn.org. See: https://github.com/scikit-learn/scikit-learn/issues/21755 */display: inline-block !important;position: relative;}#sk-container-id-1 div.sk-text-repr-fallback {display: none;}</style><div id=\"sk-container-id-1\" class=\"sk-top-container\"><div class=\"sk-text-repr-fallback\"><pre>Pipeline(steps=[(&#x27;tfidf&#x27;, TfidfVectorizer()), (&#x27;clf&#x27;, MultinomialNB())])</pre><b>In a Jupyter environment, please rerun this cell to show the HTML representation or trust the notebook. <br />On GitHub, the HTML representation is unable to render, please try loading this page with nbviewer.org.</b></div><div class=\"sk-container\" hidden><div class=\"sk-item sk-dashed-wrapped\"><div class=\"sk-label-container\"><div class=\"sk-label sk-toggleable\"><input class=\"sk-toggleable__control sk-hidden--visually\" id=\"sk-estimator-id-1\" type=\"checkbox\" ><label for=\"sk-estimator-id-1\" class=\"sk-toggleable__label sk-toggleable__label-arrow\">Pipeline</label><div class=\"sk-toggleable__content\"><pre>Pipeline(steps=[(&#x27;tfidf&#x27;, TfidfVectorizer()), (&#x27;clf&#x27;, MultinomialNB())])</pre></div></div></div><div class=\"sk-serial\"><div class=\"sk-item\"><div class=\"sk-estimator sk-toggleable\"><input class=\"sk-toggleable__control sk-hidden--visually\" id=\"sk-estimator-id-2\" type=\"checkbox\" ><label for=\"sk-estimator-id-2\" class=\"sk-toggleable__label sk-toggleable__label-arrow\">TfidfVectorizer</label><div class=\"sk-toggleable__content\"><pre>TfidfVectorizer()</pre></div></div></div><div class=\"sk-item\"><div class=\"sk-estimator sk-toggleable\"><input class=\"sk-toggleable__control sk-hidden--visually\" id=\"sk-estimator-id-3\" type=\"checkbox\" ><label for=\"sk-estimator-id-3\" class=\"sk-toggleable__label sk-toggleable__label-arrow\">MultinomialNB</label><div class=\"sk-toggleable__content\"><pre>MultinomialNB()</pre></div></div></div></div></div></div></div>"
      ],
      "text/plain": [
       "Pipeline(steps=[('tfidf', TfidfVectorizer()), ('clf', MultinomialNB())])"
      ]
     },
     "execution_count": 15,
     "metadata": {},
     "output_type": "execute_result"
    }
   ],
   "source": [
    "from sklearn.feature_extraction.text import TfidfVectorizer\n",
    "from sklearn.naive_bayes import MultinomialNB\n",
    "from sklearn.pipeline import Pipeline\n",
    "\n",
    "# Create tokenization and modelling pipeline\n",
    "model_0 = Pipeline([\n",
    "                    (\"tfidf\", TfidfVectorizer()), # convert words to numbers using tfidf\n",
    "                    (\"clf\", MultinomialNB()) # model the text\n",
    "])\n",
    "\n",
    "# Fit the pipeline to the training data\n",
    "model_0.fit(X_train, y_train)"
   ]
  },
  {
   "cell_type": "markdown",
   "id": "6a834e30",
   "metadata": {
    "id": "FTIr-aN83WvZ",
    "papermill": {
     "duration": 0.016163,
     "end_time": "2024-06-11T02:37:23.048350",
     "exception": false,
     "start_time": "2024-06-11T02:37:23.032187",
     "status": "completed"
    },
    "tags": []
   },
   "source": [
    "# Recurrent Neural Networks (RNNs) Model\n",
    " RNN are designed to handle sequences of data, such as time series, speech, or text. To retain information from previous inputs while processing new ones:"
   ]
  },
  {
   "cell_type": "markdown",
   "id": "f49a6bbd",
   "metadata": {
    "id": "re211EtyRH2h",
    "papermill": {
     "duration": 0.016449,
     "end_time": "2024-06-11T02:37:23.081429",
     "exception": false,
     "start_time": "2024-06-11T02:37:23.064980",
     "status": "completed"
    },
    "tags": []
   },
   "source": [
    "The performance metrics plotted are:\n",
    "- **Accuracy**: The proportion of true results (both true positives and true negatives) among the total number of cases examined.\n",
    "- **Precision**: The proportion of true positive results in all positive predictions.\n",
    "- **Recall**: The proportion of true positive results in all actual positive cases.\n",
    "- **F1 Score**: The harmonic mean of precision and recall, providing a balance between them."
   ]
  },
  {
   "cell_type": "code",
   "execution_count": 16,
   "id": "7650fd8f",
   "metadata": {
    "execution": {
     "iopub.execute_input": "2024-06-11T02:37:23.116748Z",
     "iopub.status.busy": "2024-06-11T02:37:23.115885Z",
     "iopub.status.idle": "2024-06-11T02:37:23.125012Z",
     "shell.execute_reply": "2024-06-11T02:37:23.123314Z"
    },
    "id": "GBeXdh7RFML1",
    "papermill": {
     "duration": 0.029497,
     "end_time": "2024-06-11T02:37:23.127638",
     "exception": false,
     "start_time": "2024-06-11T02:37:23.098141",
     "status": "completed"
    },
    "tags": []
   },
   "outputs": [],
   "source": [
    "# Function to evaluate: accuracy, precision, recall, f1-score\n",
    "from sklearn.metrics import accuracy_score, precision_recall_fscore_support\n",
    "\n",
    "def calculate_results(y_true, y_pred):\n",
    "  \"\"\"\n",
    "  Calculates model accuracy, precision, recall and f1 score of a binary classification model.\n",
    "\n",
    "  Args:\n",
    "  -----\n",
    "  y_true = true labels in the form of a 1D array\n",
    "  y_pred = predicted labels in the form of a 1D array\n",
    "\n",
    "  Returns a dictionary of accuracy, precision, recall, f1-score.\n",
    "  \"\"\"\n",
    "  # Calculate model accuracy\n",
    "  model_accuracy = accuracy_score(y_true, y_pred) * 100\n",
    "  # Calculate model precision, recall and f1 score using \"weighted\" average\n",
    "  model_precision, model_recall, model_f1, _ = precision_recall_fscore_support(y_true, y_pred, average=\"weighted\")\n",
    "  model_results = {\"accuracy\": model_accuracy,\n",
    "                  \"precision\": model_precision,\n",
    "                  \"recall\": model_recall,\n",
    "                  \"f1\": model_f1}\n",
    "  return model_results"
   ]
  },
  {
   "cell_type": "code",
   "execution_count": 17,
   "id": "b7d41a83",
   "metadata": {
    "execution": {
     "iopub.execute_input": "2024-06-11T02:37:23.162740Z",
     "iopub.status.busy": "2024-06-11T02:37:23.162289Z",
     "iopub.status.idle": "2024-06-11T02:37:23.289752Z",
     "shell.execute_reply": "2024-06-11T02:37:23.288497Z"
    },
    "id": "7lT6JPx_GCNR",
    "outputId": "9985d2e2-25fd-4ea0-d7b1-35ac9a1d17bd",
    "papermill": {
     "duration": 0.148244,
     "end_time": "2024-06-11T02:37:23.292604",
     "exception": false,
     "start_time": "2024-06-11T02:37:23.144360",
     "status": "completed"
    },
    "tags": []
   },
   "outputs": [
    {
     "name": "stdout",
     "output_type": "stream",
     "text": [
      "{'accuracy': 82.27953410981698, 'precision': 0.8288348156942275, 'recall': 0.8227953410981698, 'f1': 0.8213895454628543}\n"
     ]
    }
   ],
   "source": [
    "# Make predictions on the validation set\n",
    "baseline_preds = model_0.predict(X_val)\n",
    "\n",
    "# Calculate baseline results using your function\n",
    "baseline_results = calculate_results(y_true=y_val, y_pred=baseline_preds)\n",
    "print(baseline_results)"
   ]
  },
  {
   "cell_type": "markdown",
   "id": "2b160115",
   "metadata": {
    "id": "p_Hq-s2b20zK",
    "papermill": {
     "duration": 0.017398,
     "end_time": "2024-06-11T02:37:23.391548",
     "exception": false,
     "start_time": "2024-06-11T02:37:23.374150",
     "status": "completed"
    },
    "tags": []
   },
   "source": [
    "# 1. Vanilla RNN (Elman networks):\n",
    "This is the most basic form of RNN. It processes sequences step by step, maintaining a memory (hidden state) of past information. The hidden state is updated at each step based on the current input and the previous hidden state. However, Vanilla RNNs often struggle with long sequences due to the vanishing gradient problem, where the influence of inputs diminishes over time.\n"
   ]
  },
  {
   "cell_type": "code",
   "execution_count": 18,
   "id": "4990a6d0",
   "metadata": {
    "execution": {
     "iopub.execute_input": "2024-06-11T02:37:23.428107Z",
     "iopub.status.busy": "2024-06-11T02:37:23.427708Z",
     "iopub.status.idle": "2024-06-11T02:38:13.737742Z",
     "shell.execute_reply": "2024-06-11T02:38:13.736756Z"
    },
    "id": "k1IQmpG521BU",
    "outputId": "fee19da7-e99b-4b12-9979-2029f7adac04",
    "papermill": {
     "duration": 50.331446,
     "end_time": "2024-06-11T02:38:13.740579",
     "exception": false,
     "start_time": "2024-06-11T02:37:23.409133",
     "status": "completed"
    },
    "tags": []
   },
   "outputs": [
    {
     "name": "stdout",
     "output_type": "stream",
     "text": [
      "Epoch 1/10\n",
      "\u001b[1m439/439\u001b[0m \u001b[32m━━━━━━━━━━━━━━━━━━━━\u001b[0m\u001b[37m\u001b[0m \u001b[1m7s\u001b[0m 11ms/step - accuracy: 0.7378 - loss: 0.4960 - val_accuracy: 0.8423 - val_loss: 0.3530\n",
      "Epoch 2/10\n",
      "\u001b[1m439/439\u001b[0m \u001b[32m━━━━━━━━━━━━━━━━━━━━\u001b[0m\u001b[37m\u001b[0m \u001b[1m4s\u001b[0m 10ms/step - accuracy: 0.9360 - loss: 0.1689 - val_accuracy: 0.8251 - val_loss: 0.5202\n",
      "Epoch 3/10\n",
      "\u001b[1m439/439\u001b[0m \u001b[32m━━━━━━━━━━━━━━━━━━━━\u001b[0m\u001b[37m\u001b[0m \u001b[1m5s\u001b[0m 11ms/step - accuracy: 0.9860 - loss: 0.0458 - val_accuracy: 0.8300 - val_loss: 0.6488\n",
      "Epoch 4/10\n",
      "\u001b[1m439/439\u001b[0m \u001b[32m━━━━━━━━━━━━━━━━━━━━\u001b[0m\u001b[37m\u001b[0m \u001b[1m5s\u001b[0m 11ms/step - accuracy: 0.9947 - loss: 0.0192 - val_accuracy: 0.8108 - val_loss: 0.7658\n",
      "Epoch 5/10\n",
      "\u001b[1m439/439\u001b[0m \u001b[32m━━━━━━━━━━━━━━━━━━━━\u001b[0m\u001b[37m\u001b[0m \u001b[1m5s\u001b[0m 11ms/step - accuracy: 0.9977 - loss: 0.0096 - val_accuracy: 0.8218 - val_loss: 0.8006\n",
      "Epoch 6/10\n",
      "\u001b[1m439/439\u001b[0m \u001b[32m━━━━━━━━━━━━━━━━━━━━\u001b[0m\u001b[37m\u001b[0m \u001b[1m5s\u001b[0m 11ms/step - accuracy: 0.9979 - loss: 0.0094 - val_accuracy: 0.8246 - val_loss: 0.8985\n",
      "Epoch 7/10\n",
      "\u001b[1m439/439\u001b[0m \u001b[32m━━━━━━━━━━━━━━━━━━━━\u001b[0m\u001b[37m\u001b[0m \u001b[1m5s\u001b[0m 11ms/step - accuracy: 0.9980 - loss: 0.0066 - val_accuracy: 0.8193 - val_loss: 0.9590\n",
      "Epoch 8/10\n",
      "\u001b[1m439/439\u001b[0m \u001b[32m━━━━━━━━━━━━━━━━━━━━\u001b[0m\u001b[37m\u001b[0m \u001b[1m5s\u001b[0m 11ms/step - accuracy: 0.9988 - loss: 0.0044 - val_accuracy: 0.8180 - val_loss: 1.0412\n",
      "Epoch 9/10\n",
      "\u001b[1m439/439\u001b[0m \u001b[32m━━━━━━━━━━━━━━━━━━━━\u001b[0m\u001b[37m\u001b[0m \u001b[1m5s\u001b[0m 11ms/step - accuracy: 0.9969 - loss: 0.0102 - val_accuracy: 0.8115 - val_loss: 1.2788\n",
      "Epoch 10/10\n",
      "\u001b[1m439/439\u001b[0m \u001b[32m━━━━━━━━━━━━━━━━━━━━\u001b[0m\u001b[37m\u001b[0m \u001b[1m5s\u001b[0m 11ms/step - accuracy: 0.9958 - loss: 0.0126 - val_accuracy: 0.8241 - val_loss: 1.0103\n"
     ]
    }
   ],
   "source": [
    "from tensorflow.keras import Sequential\n",
    "from tensorflow.keras.layers import SimpleRNN, Dense, Embedding\n",
    "\n",
    "# Define the Vanilla RNN model\n",
    "model_1 = Sequential([\n",
    "    embedding,  # Use the embedding layer you have already created\n",
    "    SimpleRNN(64),  # SimpleRNN layer with 64 units\n",
    "    Dense(1, activation='sigmoid')  # Dense layer for binary classification\n",
    "])\n",
    "\n",
    "# Compile the model\n",
    "model_1.compile(loss='binary_crossentropy',\n",
    "                optimizer='adam',\n",
    "                metrics=['accuracy'])\n",
    "\n",
    "# Train the model using the vectorized data\n",
    "history_1 = model_1.fit(X_train_vect, y_train,\n",
    "                        epochs=10,\n",
    "                        validation_data=(X_val_vect, y_val))"
   ]
  },
  {
   "cell_type": "code",
   "execution_count": 19,
   "id": "020f9c42",
   "metadata": {
    "execution": {
     "iopub.execute_input": "2024-06-11T02:38:13.928614Z",
     "iopub.status.busy": "2024-06-11T02:38:13.928222Z",
     "iopub.status.idle": "2024-06-11T02:38:14.432847Z",
     "shell.execute_reply": "2024-06-11T02:38:14.431667Z"
    },
    "id": "-Pl23u1fHhy4",
    "outputId": "322286bd-23c6-447b-b4b7-68012d00ed7f",
    "papermill": {
     "duration": 0.601943,
     "end_time": "2024-06-11T02:38:14.435554",
     "exception": false,
     "start_time": "2024-06-11T02:38:13.833611",
     "status": "completed"
    },
    "tags": []
   },
   "outputs": [
    {
     "name": "stdout",
     "output_type": "stream",
     "text": [
      "\u001b[1m188/188\u001b[0m \u001b[32m━━━━━━━━━━━━━━━━━━━━\u001b[0m\u001b[37m\u001b[0m \u001b[1m0s\u001b[0m 2ms/step - accuracy: 0.8312 - loss: 0.9533\n"
     ]
    },
    {
     "data": {
      "text/plain": [
       "[1.0103257894515991, 0.8241264820098877]"
      ]
     },
     "execution_count": 19,
     "metadata": {},
     "output_type": "execute_result"
    }
   ],
   "source": [
    "# Check the results\n",
    "\n",
    "model_1.evaluate(X_val_vect, y_val)"
   ]
  },
  {
   "cell_type": "markdown",
   "id": "7033dd6b",
   "metadata": {
    "id": "vGPe-RE1I8fS",
    "papermill": {
     "duration": 0.096277,
     "end_time": "2024-06-11T02:38:14.629619",
     "exception": false,
     "start_time": "2024-06-11T02:38:14.533342",
     "status": "completed"
    },
    "tags": []
   },
   "source": [
    "Embedding weights turn them into shorter codes that remember some of their meaning. This helps computers understand how words are related, like \"king\" and \"queen\""
   ]
  },
  {
   "cell_type": "code",
   "execution_count": 20,
   "id": "4583c7a7",
   "metadata": {
    "execution": {
     "iopub.execute_input": "2024-06-11T02:38:14.820335Z",
     "iopub.status.busy": "2024-06-11T02:38:14.819879Z",
     "iopub.status.idle": "2024-06-11T02:38:14.827544Z",
     "shell.execute_reply": "2024-06-11T02:38:14.826360Z"
    },
    "id": "NuwfeEmdIZx9",
    "outputId": "b78abd84-f663-4247-80e1-13253d3a2623",
    "papermill": {
     "duration": 0.106994,
     "end_time": "2024-06-11T02:38:14.830435",
     "exception": false,
     "start_time": "2024-06-11T02:38:14.723441",
     "status": "completed"
    },
    "tags": []
   },
   "outputs": [
    {
     "data": {
      "text/plain": [
       "[<KerasVariable shape=(10000, 128), dtype=float32, path=sequential/embedding_1/embeddings>]"
      ]
     },
     "execution_count": 20,
     "metadata": {},
     "output_type": "execute_result"
    }
   ],
   "source": [
    "embedding.weights"
   ]
  },
  {
   "cell_type": "code",
   "execution_count": 21,
   "id": "871a52f0",
   "metadata": {
    "execution": {
     "iopub.execute_input": "2024-06-11T02:38:15.020908Z",
     "iopub.status.busy": "2024-06-11T02:38:15.020490Z",
     "iopub.status.idle": "2024-06-11T02:38:15.031674Z",
     "shell.execute_reply": "2024-06-11T02:38:15.030292Z"
    },
    "id": "y94Ka0qTIdEy",
    "outputId": "647e64ba-0a1b-423e-ae62-7739d3d18623",
    "papermill": {
     "duration": 0.109443,
     "end_time": "2024-06-11T02:38:15.034318",
     "exception": false,
     "start_time": "2024-06-11T02:38:14.924875",
     "status": "completed"
    },
    "tags": []
   },
   "outputs": [
    {
     "name": "stdout",
     "output_type": "stream",
     "text": [
      "(10000, 128)\n"
     ]
    }
   ],
   "source": [
    "embed_weights = model_1.get_layer(\"embedding_1\").get_weights()[0]\n",
    "print(embed_weights.shape)"
   ]
  },
  {
   "cell_type": "code",
   "execution_count": 22,
   "id": "239cd644",
   "metadata": {
    "execution": {
     "iopub.execute_input": "2024-06-11T02:38:15.225602Z",
     "iopub.status.busy": "2024-06-11T02:38:15.225194Z",
     "iopub.status.idle": "2024-06-11T02:38:16.136909Z",
     "shell.execute_reply": "2024-06-11T02:38:16.135591Z"
    },
    "id": "SaHrsLddJDhE",
    "outputId": "abae0de1-dd3a-4def-e6e9-004ffcf9e62b",
    "papermill": {
     "duration": 1.010155,
     "end_time": "2024-06-11T02:38:16.139622",
     "exception": false,
     "start_time": "2024-06-11T02:38:15.129467",
     "status": "completed"
    },
    "tags": []
   },
   "outputs": [
    {
     "name": "stdout",
     "output_type": "stream",
     "text": [
      "\u001b[1m188/188\u001b[0m \u001b[32m━━━━━━━━━━━━━━━━━━━━\u001b[0m\u001b[37m\u001b[0m \u001b[1m1s\u001b[0m 3ms/step\n"
     ]
    },
    {
     "data": {
      "text/plain": [
       "array([[9.9950802e-01],\n",
       "       [9.9396062e-01],\n",
       "       [3.5157074e-05],\n",
       "       [3.8865587e-04],\n",
       "       [9.9994946e-01],\n",
       "       [9.9147969e-01],\n",
       "       [9.9583662e-01],\n",
       "       [4.1152038e-05],\n",
       "       [5.3773642e-01],\n",
       "       [9.9068463e-01]], dtype=float32)"
      ]
     },
     "execution_count": 22,
     "metadata": {},
     "output_type": "execute_result"
    }
   ],
   "source": [
    "# Make predictions (these come back in the form of probabilities)\n",
    "model_1_pred_probs = model_1.predict(X_val_vect)\n",
    "model_1_pred_probs[:10] # only print out the first 10 prediction probabilities"
   ]
  },
  {
   "cell_type": "code",
   "execution_count": 23,
   "id": "b8ecc817",
   "metadata": {
    "execution": {
     "iopub.execute_input": "2024-06-11T02:38:16.361768Z",
     "iopub.status.busy": "2024-06-11T02:38:16.361318Z",
     "iopub.status.idle": "2024-06-11T02:38:16.375350Z",
     "shell.execute_reply": "2024-06-11T02:38:16.373924Z"
    },
    "id": "bFptVE6WJJm2",
    "outputId": "ce6c4400-0b0d-434b-a213-efe36f110900",
    "papermill": {
     "duration": 0.116997,
     "end_time": "2024-06-11T02:38:16.378498",
     "exception": false,
     "start_time": "2024-06-11T02:38:16.261501",
     "status": "completed"
    },
    "tags": []
   },
   "outputs": [
    {
     "data": {
      "text/plain": [
       "<tf.Tensor: shape=(20,), dtype=float32, numpy=\n",
       "array([1., 1., 0., 0., 1., 1., 1., 0., 1., 1., 0., 1., 1., 0., 0., 1., 1.,\n",
       "       1., 1., 1.], dtype=float32)>"
      ]
     },
     "execution_count": 23,
     "metadata": {},
     "output_type": "execute_result"
    }
   ],
   "source": [
    "# Turn prediction probabilities into single-dimension tensor of floats\n",
    "model_1_preds = tf.squeeze(tf.round(model_1_pred_probs)) # squeeze removes single dimensions\n",
    "model_1_preds[:20]"
   ]
  },
  {
   "cell_type": "markdown",
   "id": "03bed488",
   "metadata": {
    "id": "-CPYGv0K3cye",
    "papermill": {
     "duration": 0.098444,
     "end_time": "2024-06-11T02:38:16.579915",
     "exception": false,
     "start_time": "2024-06-11T02:38:16.481471",
     "status": "completed"
    },
    "tags": []
   },
   "source": [
    "# 2. Long Short-Term Memory (LSTM):\n",
    "LSTMs are an advanced variant of RNNs specifically designed to overcome the vanishing gradient problem. They include special units called gates: input, output, and forget gates. These gates determine what information should be remembered or forgotten as the sequence progresses. This architecture allows LSTMs to capture long-term dependencies and retain information over longer sequences."
   ]
  },
  {
   "cell_type": "code",
   "execution_count": 24,
   "id": "ded3e479",
   "metadata": {
    "execution": {
     "iopub.execute_input": "2024-06-11T02:38:16.779590Z",
     "iopub.status.busy": "2024-06-11T02:38:16.779210Z",
     "iopub.status.idle": "2024-06-11T02:39:22.300266Z",
     "shell.execute_reply": "2024-06-11T02:39:22.299179Z"
    },
    "id": "7j85a7cr1D_c",
    "outputId": "3633b1ff-8b0c-4922-abcf-cb1e6faaaab4",
    "papermill": {
     "duration": 65.625164,
     "end_time": "2024-06-11T02:39:22.303087",
     "exception": false,
     "start_time": "2024-06-11T02:38:16.677923",
     "status": "completed"
    },
    "tags": []
   },
   "outputs": [
    {
     "name": "stdout",
     "output_type": "stream",
     "text": [
      "Epoch 1/10\n",
      "\u001b[1m439/439\u001b[0m \u001b[32m━━━━━━━━━━━━━━━━━━━━\u001b[0m\u001b[37m\u001b[0m \u001b[1m9s\u001b[0m 15ms/step - accuracy: 0.8842 - loss: 0.2911 - val_accuracy: 0.8323 - val_loss: 0.4655\n",
      "Epoch 2/10\n",
      "\u001b[1m439/439\u001b[0m \u001b[32m━━━━━━━━━━━━━━━━━━━━\u001b[0m\u001b[37m\u001b[0m \u001b[1m6s\u001b[0m 14ms/step - accuracy: 0.9596 - loss: 0.1094 - val_accuracy: 0.8251 - val_loss: 0.6103\n",
      "Epoch 3/10\n",
      "\u001b[1m439/439\u001b[0m \u001b[32m━━━━━━━━━━━━━━━━━━━━\u001b[0m\u001b[37m\u001b[0m \u001b[1m6s\u001b[0m 14ms/step - accuracy: 0.9856 - loss: 0.0461 - val_accuracy: 0.8120 - val_loss: 0.7665\n",
      "Epoch 4/10\n",
      "\u001b[1m439/439\u001b[0m \u001b[32m━━━━━━━━━━━━━━━━━━━━\u001b[0m\u001b[37m\u001b[0m \u001b[1m6s\u001b[0m 14ms/step - accuracy: 0.9921 - loss: 0.0285 - val_accuracy: 0.8095 - val_loss: 0.9251\n",
      "Epoch 5/10\n",
      "\u001b[1m439/439\u001b[0m \u001b[32m━━━━━━━━━━━━━━━━━━━━\u001b[0m\u001b[37m\u001b[0m \u001b[1m6s\u001b[0m 14ms/step - accuracy: 0.9934 - loss: 0.0255 - val_accuracy: 0.8082 - val_loss: 0.8342\n",
      "Epoch 6/10\n",
      "\u001b[1m439/439\u001b[0m \u001b[32m━━━━━━━━━━━━━━━━━━━━\u001b[0m\u001b[37m\u001b[0m \u001b[1m6s\u001b[0m 14ms/step - accuracy: 0.9950 - loss: 0.0159 - val_accuracy: 0.8238 - val_loss: 0.9210\n",
      "Epoch 7/10\n",
      "\u001b[1m439/439\u001b[0m \u001b[32m━━━━━━━━━━━━━━━━━━━━\u001b[0m\u001b[37m\u001b[0m \u001b[1m6s\u001b[0m 14ms/step - accuracy: 0.9964 - loss: 0.0111 - val_accuracy: 0.8203 - val_loss: 0.9096\n",
      "Epoch 8/10\n",
      "\u001b[1m439/439\u001b[0m \u001b[32m━━━━━━━━━━━━━━━━━━━━\u001b[0m\u001b[37m\u001b[0m \u001b[1m6s\u001b[0m 14ms/step - accuracy: 0.9986 - loss: 0.0071 - val_accuracy: 0.8205 - val_loss: 1.0114\n",
      "Epoch 9/10\n",
      "\u001b[1m439/439\u001b[0m \u001b[32m━━━━━━━━━━━━━━━━━━━━\u001b[0m\u001b[37m\u001b[0m \u001b[1m6s\u001b[0m 14ms/step - accuracy: 0.9990 - loss: 0.0038 - val_accuracy: 0.8130 - val_loss: 1.0554\n",
      "Epoch 10/10\n",
      "\u001b[1m439/439\u001b[0m \u001b[32m━━━━━━━━━━━━━━━━━━━━\u001b[0m\u001b[37m\u001b[0m \u001b[1m6s\u001b[0m 14ms/step - accuracy: 0.9991 - loss: 0.0037 - val_accuracy: 0.8166 - val_loss: 1.2148\n"
     ]
    }
   ],
   "source": [
    "from tensorflow.keras.layers import LSTM\n",
    "\n",
    "# Define the LSTM model\n",
    "model_2 = Sequential([\n",
    "    embedding,  # have already created\n",
    "    LSTM(64),  # LSTM layer with 64 units\n",
    "    Dense(1, activation='sigmoid')  # Output layer for binary classification\n",
    "])\n",
    "\n",
    "# Compile the model\n",
    "model_2.compile(loss='binary_crossentropy',\n",
    "                optimizer='adam',\n",
    "                metrics=['accuracy'])\n",
    "\n",
    "# Train the model using the vectorized data\n",
    "history_2 = model_2.fit(X_train_vect, y_train,\n",
    "                        epochs=10,\n",
    "                        validation_data=(X_val_vect, y_val))"
   ]
  },
  {
   "cell_type": "code",
   "execution_count": 25,
   "id": "91b3179c",
   "metadata": {
    "execution": {
     "iopub.execute_input": "2024-06-11T02:39:22.693112Z",
     "iopub.status.busy": "2024-06-11T02:39:22.692620Z",
     "iopub.status.idle": "2024-06-11T02:39:23.446065Z",
     "shell.execute_reply": "2024-06-11T02:39:23.444934Z"
    },
    "id": "c050zdLrK9s4",
    "outputId": "3f7388dd-4727-4a07-ebed-70bcf5fec868",
    "papermill": {
     "duration": 0.952502,
     "end_time": "2024-06-11T02:39:23.448652",
     "exception": false,
     "start_time": "2024-06-11T02:39:22.496150",
     "status": "completed"
    },
    "tags": []
   },
   "outputs": [
    {
     "name": "stdout",
     "output_type": "stream",
     "text": [
      "\u001b[1m188/188\u001b[0m \u001b[32m━━━━━━━━━━━━━━━━━━━━\u001b[0m\u001b[37m\u001b[0m \u001b[1m1s\u001b[0m 4ms/step - accuracy: 0.8256 - loss: 1.1747\n"
     ]
    },
    {
     "data": {
      "text/plain": [
       "[1.2147711515426636, 0.8166389465332031]"
      ]
     },
     "execution_count": 25,
     "metadata": {},
     "output_type": "execute_result"
    }
   ],
   "source": [
    "# Evaluate the model on the validation set\n",
    "model_2.evaluate(X_val_vect, y_val)"
   ]
  },
  {
   "cell_type": "code",
   "execution_count": 26,
   "id": "97496bb4",
   "metadata": {
    "execution": {
     "iopub.execute_input": "2024-06-11T02:39:23.840464Z",
     "iopub.status.busy": "2024-06-11T02:39:23.839883Z",
     "iopub.status.idle": "2024-06-11T02:39:23.848453Z",
     "shell.execute_reply": "2024-06-11T02:39:23.847106Z"
    },
    "id": "EDicrAumLVJf",
    "outputId": "8f6dd015-da8b-4cdc-cf07-b0f517447dd6",
    "papermill": {
     "duration": 0.208815,
     "end_time": "2024-06-11T02:39:23.851335",
     "exception": false,
     "start_time": "2024-06-11T02:39:23.642520",
     "status": "completed"
    },
    "tags": []
   },
   "outputs": [
    {
     "name": "stdout",
     "output_type": "stream",
     "text": [
      "(10000, 128)\n"
     ]
    }
   ],
   "source": [
    "embed_weights2 = model_2.get_layer(\"embedding_1\").get_weights()[0]\n",
    "print(embed_weights2.shape)"
   ]
  },
  {
   "cell_type": "code",
   "execution_count": 27,
   "id": "7831e214",
   "metadata": {
    "execution": {
     "iopub.execute_input": "2024-06-11T02:39:24.241080Z",
     "iopub.status.busy": "2024-06-11T02:39:24.240641Z",
     "iopub.status.idle": "2024-06-11T02:39:25.376283Z",
     "shell.execute_reply": "2024-06-11T02:39:25.375169Z"
    },
    "id": "bKKubwkLLvGf",
    "outputId": "d209fa98-73d1-4b8e-f667-f3aaf29985ff",
    "papermill": {
     "duration": 1.333126,
     "end_time": "2024-06-11T02:39:25.378894",
     "exception": false,
     "start_time": "2024-06-11T02:39:24.045768",
     "status": "completed"
    },
    "tags": []
   },
   "outputs": [
    {
     "name": "stdout",
     "output_type": "stream",
     "text": [
      "\u001b[1m188/188\u001b[0m \u001b[32m━━━━━━━━━━━━━━━━━━━━\u001b[0m\u001b[37m\u001b[0m \u001b[1m1s\u001b[0m 4ms/step\n"
     ]
    },
    {
     "data": {
      "text/plain": [
       "array([[9.9999762e-01],\n",
       "       [9.9999243e-01],\n",
       "       [9.1637548e-06],\n",
       "       [4.9006594e-05],\n",
       "       [9.9339789e-01],\n",
       "       [9.9999422e-01],\n",
       "       [9.9999768e-01],\n",
       "       [1.0305713e-02],\n",
       "       [1.0964671e-01],\n",
       "       [9.9999630e-01]], dtype=float32)"
      ]
     },
     "execution_count": 27,
     "metadata": {},
     "output_type": "execute_result"
    }
   ],
   "source": [
    "# Make predictions (these come back in the form of probabilities)\n",
    "model_2_pred_probs = model_2.predict(X_val_vect)\n",
    "model_2_pred_probs[:10] # only print out the first 10 prediction probabilities"
   ]
  },
  {
   "cell_type": "code",
   "execution_count": 28,
   "id": "255c5622",
   "metadata": {
    "execution": {
     "iopub.execute_input": "2024-06-11T02:39:25.774997Z",
     "iopub.status.busy": "2024-06-11T02:39:25.774461Z",
     "iopub.status.idle": "2024-06-11T02:39:25.785322Z",
     "shell.execute_reply": "2024-06-11T02:39:25.784177Z"
    },
    "id": "-o3N7nUYL0LE",
    "papermill": {
     "duration": 0.21176,
     "end_time": "2024-06-11T02:39:25.787970",
     "exception": false,
     "start_time": "2024-06-11T02:39:25.576210",
     "status": "completed"
    },
    "tags": []
   },
   "outputs": [
    {
     "data": {
      "text/plain": [
       "<tf.Tensor: shape=(20,), dtype=float32, numpy=\n",
       "array([1., 1., 0., 0., 1., 1., 1., 0., 0., 1., 0., 1., 1., 0., 0., 1., 1.,\n",
       "       1., 1., 1.], dtype=float32)>"
      ]
     },
     "execution_count": 28,
     "metadata": {},
     "output_type": "execute_result"
    }
   ],
   "source": [
    "# Turn prediction probabilities into single-dimension tensor of floats\n",
    "model_2_preds = tf.squeeze(tf.round(model_2_pred_probs)) # squeeze removes single dimensions\n",
    "model_2_preds[:20]"
   ]
  },
  {
   "cell_type": "markdown",
   "id": "f7a098b9",
   "metadata": {
    "id": "NErmCkFI1D28",
    "papermill": {
     "duration": 0.21463,
     "end_time": "2024-06-11T02:39:26.206813",
     "exception": false,
     "start_time": "2024-06-11T02:39:25.992183",
     "status": "completed"
    },
    "tags": []
   },
   "source": [
    "# 3.Gated Recurrent Unit (GRU):\n",
    "GRUs are similar to LSTMs but are simpler and use fewer gates (two gates: update and reset). This makes them computationally less expensive and faster to train than LSTMs. Despite the simplicity, GRUs can perform on par with LSTMs on many tasks and are especially effective when dealing with smaller datasets or when computational efficiency is a concern."
   ]
  },
  {
   "cell_type": "code",
   "execution_count": 29,
   "id": "3b4b0e5b",
   "metadata": {
    "execution": {
     "iopub.execute_input": "2024-06-11T02:39:26.624709Z",
     "iopub.status.busy": "2024-06-11T02:39:26.623602Z",
     "iopub.status.idle": "2024-06-11T02:40:33.132169Z",
     "shell.execute_reply": "2024-06-11T02:40:33.130984Z"
    },
    "id": "Cukl65Ub0_Cm",
    "outputId": "611d6d63-e637-4d67-cbb0-9dc72e250535",
    "papermill": {
     "duration": 66.71026,
     "end_time": "2024-06-11T02:40:33.135022",
     "exception": false,
     "start_time": "2024-06-11T02:39:26.424762",
     "status": "completed"
    },
    "tags": []
   },
   "outputs": [
    {
     "name": "stdout",
     "output_type": "stream",
     "text": [
      "Epoch 1/10\n",
      "\u001b[1m439/439\u001b[0m \u001b[32m━━━━━━━━━━━━━━━━━━━━\u001b[0m\u001b[37m\u001b[0m \u001b[1m9s\u001b[0m 15ms/step - accuracy: 0.9054 - loss: 0.2165 - val_accuracy: 0.8196 - val_loss: 0.7270\n",
      "Epoch 2/10\n",
      "\u001b[1m439/439\u001b[0m \u001b[32m━━━━━━━━━━━━━━━━━━━━\u001b[0m\u001b[37m\u001b[0m \u001b[1m6s\u001b[0m 14ms/step - accuracy: 0.9933 - loss: 0.0208 - val_accuracy: 0.8135 - val_loss: 0.8718\n",
      "Epoch 3/10\n",
      "\u001b[1m439/439\u001b[0m \u001b[32m━━━━━━━━━━━━━━━━━━━━\u001b[0m\u001b[37m\u001b[0m \u001b[1m7s\u001b[0m 15ms/step - accuracy: 0.9969 - loss: 0.0107 - val_accuracy: 0.8138 - val_loss: 1.0104\n",
      "Epoch 4/10\n",
      "\u001b[1m439/439\u001b[0m \u001b[32m━━━━━━━━━━━━━━━━━━━━\u001b[0m\u001b[37m\u001b[0m \u001b[1m6s\u001b[0m 14ms/step - accuracy: 0.9975 - loss: 0.0070 - val_accuracy: 0.8143 - val_loss: 0.9958\n",
      "Epoch 5/10\n",
      "\u001b[1m439/439\u001b[0m \u001b[32m━━━━━━━━━━━━━━━━━━━━\u001b[0m\u001b[37m\u001b[0m \u001b[1m7s\u001b[0m 16ms/step - accuracy: 0.9993 - loss: 0.0037 - val_accuracy: 0.8138 - val_loss: 1.0828\n",
      "Epoch 6/10\n",
      "\u001b[1m439/439\u001b[0m \u001b[32m━━━━━━━━━━━━━━━━━━━━\u001b[0m\u001b[37m\u001b[0m \u001b[1m6s\u001b[0m 14ms/step - accuracy: 0.9990 - loss: 0.0048 - val_accuracy: 0.8160 - val_loss: 1.0861\n",
      "Epoch 7/10\n",
      "\u001b[1m439/439\u001b[0m \u001b[32m━━━━━━━━━━━━━━━━━━━━\u001b[0m\u001b[37m\u001b[0m \u001b[1m6s\u001b[0m 14ms/step - accuracy: 0.9993 - loss: 0.0035 - val_accuracy: 0.8105 - val_loss: 1.1287\n",
      "Epoch 8/10\n",
      "\u001b[1m439/439\u001b[0m \u001b[32m━━━━━━━━━━━━━━━━━━━━\u001b[0m\u001b[37m\u001b[0m \u001b[1m6s\u001b[0m 14ms/step - accuracy: 0.9998 - loss: 0.0016 - val_accuracy: 0.8158 - val_loss: 1.3675\n",
      "Epoch 9/10\n",
      "\u001b[1m439/439\u001b[0m \u001b[32m━━━━━━━━━━━━━━━━━━━━\u001b[0m\u001b[37m\u001b[0m \u001b[1m6s\u001b[0m 14ms/step - accuracy: 0.9994 - loss: 0.0021 - val_accuracy: 0.8125 - val_loss: 1.2333\n",
      "Epoch 10/10\n",
      "\u001b[1m439/439\u001b[0m \u001b[32m━━━━━━━━━━━━━━━━━━━━\u001b[0m\u001b[37m\u001b[0m \u001b[1m6s\u001b[0m 14ms/step - accuracy: 0.9991 - loss: 0.0049 - val_accuracy: 0.8133 - val_loss: 1.1276\n"
     ]
    }
   ],
   "source": [
    "from tensorflow.keras.layers import GRU\n",
    "\n",
    "# Define the GRU model\n",
    "model_3 = Sequential([\n",
    "    embedding,  # Reuse the embedding layer you have already created\n",
    "    GRU(64),  # GRU layer with 64 units\n",
    "    Dense(1, activation='sigmoid')  # Output layer for binary classification\n",
    "])\n",
    "\n",
    "# Compile the model\n",
    "model_3.compile(loss='binary_crossentropy',\n",
    "                optimizer='adam',\n",
    "                metrics=['accuracy'])\n",
    "\n",
    "# Train the model using the vectorized data\n",
    "history_3 = model_3.fit(X_train_vect, y_train,\n",
    "                        epochs=10,\n",
    "                        validation_data=(X_val_vect, y_val))"
   ]
  },
  {
   "cell_type": "code",
   "execution_count": 30,
   "id": "384e9cdd",
   "metadata": {
    "execution": {
     "iopub.execute_input": "2024-06-11T02:40:33.742992Z",
     "iopub.status.busy": "2024-06-11T02:40:33.742106Z",
     "iopub.status.idle": "2024-06-11T02:40:35.094661Z",
     "shell.execute_reply": "2024-06-11T02:40:35.092847Z"
    },
    "id": "h_qxykfyM3zT",
    "outputId": "bd034498-9906-428f-817d-16524aae6e61",
    "papermill": {
     "duration": 1.657678,
     "end_time": "2024-06-11T02:40:35.097824",
     "exception": false,
     "start_time": "2024-06-11T02:40:33.440146",
     "status": "completed"
    },
    "tags": []
   },
   "outputs": [
    {
     "name": "stdout",
     "output_type": "stream",
     "text": [
      "\u001b[1m188/188\u001b[0m \u001b[32m━━━━━━━━━━━━━━━━━━━━\u001b[0m\u001b[37m\u001b[0m \u001b[1m1s\u001b[0m 3ms/step - accuracy: 0.8196 - loss: 1.0733\n"
     ]
    },
    {
     "data": {
      "text/plain": [
       "[1.1276406049728394, 0.8133111596107483]"
      ]
     },
     "execution_count": 30,
     "metadata": {},
     "output_type": "execute_result"
    }
   ],
   "source": [
    "# Evaluate the model on the validation set\n",
    "model_3.evaluate(X_val_vect, y_val)"
   ]
  },
  {
   "cell_type": "code",
   "execution_count": 31,
   "id": "56781f0b",
   "metadata": {
    "execution": {
     "iopub.execute_input": "2024-06-11T02:40:35.699343Z",
     "iopub.status.busy": "2024-06-11T02:40:35.698923Z",
     "iopub.status.idle": "2024-06-11T02:40:35.707437Z",
     "shell.execute_reply": "2024-06-11T02:40:35.705919Z"
    },
    "id": "VlVSrfFVN3rE",
    "outputId": "4bce3adf-8ab2-4899-f548-4e6f822e6a8e",
    "papermill": {
     "duration": 0.314104,
     "end_time": "2024-06-11T02:40:35.710439",
     "exception": false,
     "start_time": "2024-06-11T02:40:35.396335",
     "status": "completed"
    },
    "tags": []
   },
   "outputs": [
    {
     "name": "stdout",
     "output_type": "stream",
     "text": [
      "(10000, 128)\n"
     ]
    }
   ],
   "source": [
    "embed_weights3 = model_3.get_layer(\"embedding_1\").get_weights()[0]\n",
    "print(embed_weights3.shape)"
   ]
  },
  {
   "cell_type": "code",
   "execution_count": 32,
   "id": "76028f87",
   "metadata": {
    "execution": {
     "iopub.execute_input": "2024-06-11T02:40:36.339653Z",
     "iopub.status.busy": "2024-06-11T02:40:36.339243Z",
     "iopub.status.idle": "2024-06-11T02:40:37.786202Z",
     "shell.execute_reply": "2024-06-11T02:40:37.784914Z"
    },
    "id": "-YgIXoR8N_ST",
    "outputId": "ebc63768-85ac-48e8-d5cc-aa8e51470d1e",
    "papermill": {
     "duration": 1.778281,
     "end_time": "2024-06-11T02:40:37.788715",
     "exception": false,
     "start_time": "2024-06-11T02:40:36.010434",
     "status": "completed"
    },
    "tags": []
   },
   "outputs": [
    {
     "name": "stdout",
     "output_type": "stream",
     "text": [
      "\u001b[1m188/188\u001b[0m \u001b[32m━━━━━━━━━━━━━━━━━━━━\u001b[0m\u001b[37m\u001b[0m \u001b[1m1s\u001b[0m 4ms/step\n"
     ]
    },
    {
     "data": {
      "text/plain": [
       "array([[9.9999630e-01],\n",
       "       [9.9999750e-01],\n",
       "       [5.0131666e-06],\n",
       "       [2.0907938e-03],\n",
       "       [9.9997592e-01],\n",
       "       [9.9999774e-01],\n",
       "       [9.9991941e-01],\n",
       "       [8.4488893e-06],\n",
       "       [1.5631515e-03],\n",
       "       [9.9996477e-01]], dtype=float32)"
      ]
     },
     "execution_count": 32,
     "metadata": {},
     "output_type": "execute_result"
    }
   ],
   "source": [
    "# Make predictions (these come back in the form of probabilities)\n",
    "model_3_pred_probs = model_3.predict(X_val_vect)\n",
    "model_3_pred_probs[:10] # only print out the first 10 prediction probabilities"
   ]
  },
  {
   "cell_type": "code",
   "execution_count": 33,
   "id": "508d5b1e",
   "metadata": {
    "execution": {
     "iopub.execute_input": "2024-06-11T02:40:38.400188Z",
     "iopub.status.busy": "2024-06-11T02:40:38.399789Z",
     "iopub.status.idle": "2024-06-11T02:40:38.410330Z",
     "shell.execute_reply": "2024-06-11T02:40:38.409004Z"
    },
    "id": "9ACijPtAOGji",
    "outputId": "10d7af71-a6d0-4696-c6d5-2602dd53cde9",
    "papermill": {
     "duration": 0.31982,
     "end_time": "2024-06-11T02:40:38.413351",
     "exception": false,
     "start_time": "2024-06-11T02:40:38.093531",
     "status": "completed"
    },
    "tags": []
   },
   "outputs": [
    {
     "data": {
      "text/plain": [
       "<tf.Tensor: shape=(20,), dtype=float32, numpy=\n",
       "array([1., 1., 0., 0., 1., 1., 1., 0., 0., 1., 0., 1., 1., 0., 0., 1., 1.,\n",
       "       1., 1., 1.], dtype=float32)>"
      ]
     },
     "execution_count": 33,
     "metadata": {},
     "output_type": "execute_result"
    }
   ],
   "source": [
    "# Turn prediction probabilities into single-dimension tensor of floats\n",
    "model_3_preds = tf.squeeze(tf.round(model_3_pred_probs)) # squeeze removes single dimensions\n",
    "model_3_preds[:20]"
   ]
  },
  {
   "cell_type": "markdown",
   "id": "8be1c23d",
   "metadata": {
    "id": "8YCesYvl1cqp",
    "papermill": {
     "duration": 0.309503,
     "end_time": "2024-06-11T02:40:39.096913",
     "exception": false,
     "start_time": "2024-06-11T02:40:38.787410",
     "status": "completed"
    },
    "tags": []
   },
   "source": [
    "# 4.Bidirectional RNN:\n",
    "These networks process information in both forward and backward directions of a sequence. They have two layers running in opposite directions, allowing them to capture context from both past and future data points. Bidirectional RNNs are particularly useful in tasks where the entire sequence is known from the start, such as in speech and text processing, enabling more accurate predictions and analyses."
   ]
  },
  {
   "cell_type": "code",
   "execution_count": 34,
   "id": "071addea",
   "metadata": {
    "execution": {
     "iopub.execute_input": "2024-06-11T02:40:39.713813Z",
     "iopub.status.busy": "2024-06-11T02:40:39.713351Z",
     "iopub.status.idle": "2024-06-11T02:42:04.060448Z",
     "shell.execute_reply": "2024-06-11T02:42:04.059033Z"
    },
    "id": "V_f4dBJy1c62",
    "outputId": "f3d2357b-9edd-433f-90e2-5012dc16edb0",
    "papermill": {
     "duration": 84.660536,
     "end_time": "2024-06-11T02:42:04.063283",
     "exception": false,
     "start_time": "2024-06-11T02:40:39.402747",
     "status": "completed"
    },
    "tags": []
   },
   "outputs": [
    {
     "name": "stdout",
     "output_type": "stream",
     "text": [
      "Epoch 1/10\n",
      "\u001b[1m439/439\u001b[0m \u001b[32m━━━━━━━━━━━━━━━━━━━━\u001b[0m\u001b[37m\u001b[0m \u001b[1m12s\u001b[0m 18ms/step - accuracy: 0.9555 - loss: 0.1444 - val_accuracy: 0.8223 - val_loss: 0.8602\n",
      "Epoch 2/10\n",
      "\u001b[1m439/439\u001b[0m \u001b[32m━━━━━━━━━━━━━━━━━━━━\u001b[0m\u001b[37m\u001b[0m \u001b[1m10s\u001b[0m 17ms/step - accuracy: 0.9981 - loss: 0.0074 - val_accuracy: 0.8100 - val_loss: 0.9778\n",
      "Epoch 3/10\n",
      "\u001b[1m439/439\u001b[0m \u001b[32m━━━━━━━━━━━━━━━━━━━━\u001b[0m\u001b[37m\u001b[0m \u001b[1m7s\u001b[0m 17ms/step - accuracy: 0.9984 - loss: 0.0045 - val_accuracy: 0.8136 - val_loss: 1.1489\n",
      "Epoch 4/10\n",
      "\u001b[1m439/439\u001b[0m \u001b[32m━━━━━━━━━━━━━━━━━━━━\u001b[0m\u001b[37m\u001b[0m \u001b[1m10s\u001b[0m 17ms/step - accuracy: 0.9990 - loss: 0.0024 - val_accuracy: 0.8136 - val_loss: 1.3409\n",
      "Epoch 5/10\n",
      "\u001b[1m439/439\u001b[0m \u001b[32m━━━━━━━━━━━━━━━━━━━━\u001b[0m\u001b[37m\u001b[0m \u001b[1m8s\u001b[0m 17ms/step - accuracy: 0.9996 - loss: 0.0035 - val_accuracy: 0.8048 - val_loss: 1.3587\n",
      "Epoch 6/10\n",
      "\u001b[1m439/439\u001b[0m \u001b[32m━━━━━━━━━━━━━━━━━━━━\u001b[0m\u001b[37m\u001b[0m \u001b[1m7s\u001b[0m 16ms/step - accuracy: 0.9997 - loss: 0.0025 - val_accuracy: 0.8060 - val_loss: 1.4818\n",
      "Epoch 7/10\n",
      "\u001b[1m439/439\u001b[0m \u001b[32m━━━━━━━━━━━━━━━━━━━━\u001b[0m\u001b[37m\u001b[0m \u001b[1m7s\u001b[0m 17ms/step - accuracy: 0.9996 - loss: 0.0023 - val_accuracy: 0.8063 - val_loss: 1.1898\n",
      "Epoch 8/10\n",
      "\u001b[1m439/439\u001b[0m \u001b[32m━━━━━━━━━━━━━━━━━━━━\u001b[0m\u001b[37m\u001b[0m \u001b[1m7s\u001b[0m 17ms/step - accuracy: 0.9982 - loss: 0.0070 - val_accuracy: 0.8150 - val_loss: 1.3154\n",
      "Epoch 9/10\n",
      "\u001b[1m439/439\u001b[0m \u001b[32m━━━━━━━━━━━━━━━━━━━━\u001b[0m\u001b[37m\u001b[0m \u001b[1m8s\u001b[0m 18ms/step - accuracy: 0.9989 - loss: 0.0038 - val_accuracy: 0.8171 - val_loss: 1.4114\n",
      "Epoch 10/10\n",
      "\u001b[1m439/439\u001b[0m \u001b[32m━━━━━━━━━━━━━━━━━━━━\u001b[0m\u001b[37m\u001b[0m \u001b[1m7s\u001b[0m 17ms/step - accuracy: 0.9998 - loss: 0.0020 - val_accuracy: 0.8190 - val_loss: 1.4804\n"
     ]
    }
   ],
   "source": [
    "from tensorflow.keras.layers import Bidirectional, LSTM\n",
    "\n",
    "# Define the Bidirectional RNN model\n",
    "model_4 = Sequential([\n",
    "    embedding,  # have already created\n",
    "    Bidirectional(LSTM(64)),  # Bidirectional LSTM layer with 64 units\n",
    "    Dense(1, activation='sigmoid')  # Output layer for binary classification\n",
    "])\n",
    "\n",
    "# Compile the model\n",
    "model_4.compile(loss='binary_crossentropy',\n",
    "                optimizer='adam',\n",
    "                metrics=['accuracy'])\n",
    "\n",
    "# Train the model using the vectorized data\n",
    "history_4 = model_4.fit(X_train_vect, y_train,\n",
    "                        epochs=10,\n",
    "                        validation_data=(X_val_vect, y_val))\n"
   ]
  },
  {
   "cell_type": "code",
   "execution_count": 35,
   "id": "0fb826d9",
   "metadata": {
    "execution": {
     "iopub.execute_input": "2024-06-11T02:42:04.981894Z",
     "iopub.status.busy": "2024-06-11T02:42:04.981465Z",
     "iopub.status.idle": "2024-06-11T02:42:05.846009Z",
     "shell.execute_reply": "2024-06-11T02:42:05.844796Z"
    },
    "id": "5TrM_zwcOYgs",
    "outputId": "9420a62f-0ef6-45f2-a80d-a711d207dbd6",
    "papermill": {
     "duration": 1.368935,
     "end_time": "2024-06-11T02:42:05.848425",
     "exception": false,
     "start_time": "2024-06-11T02:42:04.479490",
     "status": "completed"
    },
    "tags": []
   },
   "outputs": [
    {
     "name": "stdout",
     "output_type": "stream",
     "text": [
      "\u001b[1m188/188\u001b[0m \u001b[32m━━━━━━━━━━━━━━━━━━━━\u001b[0m\u001b[37m\u001b[0m \u001b[1m1s\u001b[0m 4ms/step - accuracy: 0.8257 - loss: 1.4168\n"
     ]
    },
    {
     "data": {
      "text/plain": [
       "[1.4804271459579468, 0.8189684152603149]"
      ]
     },
     "execution_count": 35,
     "metadata": {},
     "output_type": "execute_result"
    }
   ],
   "source": [
    "# Evaluate the model on the validation set\n",
    "model_4.evaluate(X_val_vect, y_val)"
   ]
  },
  {
   "cell_type": "code",
   "execution_count": 36,
   "id": "428b127d",
   "metadata": {
    "execution": {
     "iopub.execute_input": "2024-06-11T02:42:06.715548Z",
     "iopub.status.busy": "2024-06-11T02:42:06.715119Z",
     "iopub.status.idle": "2024-06-11T02:42:06.723802Z",
     "shell.execute_reply": "2024-06-11T02:42:06.722485Z"
    },
    "id": "CefliDwdOZN2",
    "outputId": "90569510-6f22-4198-a7dc-4f378b0557cd",
    "papermill": {
     "duration": 0.430709,
     "end_time": "2024-06-11T02:42:06.726968",
     "exception": false,
     "start_time": "2024-06-11T02:42:06.296259",
     "status": "completed"
    },
    "tags": []
   },
   "outputs": [
    {
     "name": "stdout",
     "output_type": "stream",
     "text": [
      "(10000, 128)\n"
     ]
    }
   ],
   "source": [
    "embed_weights4 = model_4.get_layer(\"embedding_1\").get_weights()[0]\n",
    "print(embed_weights4.shape)"
   ]
  },
  {
   "cell_type": "code",
   "execution_count": 37,
   "id": "a296d1a1",
   "metadata": {
    "execution": {
     "iopub.execute_input": "2024-06-11T02:42:07.565059Z",
     "iopub.status.busy": "2024-06-11T02:42:07.564284Z",
     "iopub.status.idle": "2024-06-11T02:42:09.070439Z",
     "shell.execute_reply": "2024-06-11T02:42:09.069057Z"
    },
    "id": "BvWjKkO7OZZ9",
    "outputId": "1de86af4-c17e-4936-9983-2eadbf56f862",
    "papermill": {
     "duration": 1.925532,
     "end_time": "2024-06-11T02:42:09.073094",
     "exception": false,
     "start_time": "2024-06-11T02:42:07.147562",
     "status": "completed"
    },
    "tags": []
   },
   "outputs": [
    {
     "name": "stdout",
     "output_type": "stream",
     "text": [
      "\u001b[1m188/188\u001b[0m \u001b[32m━━━━━━━━━━━━━━━━━━━━\u001b[0m\u001b[37m\u001b[0m \u001b[1m1s\u001b[0m 6ms/step\n"
     ]
    },
    {
     "data": {
      "text/plain": [
       "array([[9.9999988e-01],\n",
       "       [1.0000000e+00],\n",
       "       [2.8986390e-06],\n",
       "       [1.7005472e-05],\n",
       "       [9.9999964e-01],\n",
       "       [1.0000000e+00],\n",
       "       [9.9996853e-01],\n",
       "       [1.7054548e-07],\n",
       "       [1.4611189e-03],\n",
       "       [9.9999988e-01]], dtype=float32)"
      ]
     },
     "execution_count": 37,
     "metadata": {},
     "output_type": "execute_result"
    }
   ],
   "source": [
    "# Make predictions (these come back in the form of probabilities)\n",
    "model_4_pred_probs = model_4.predict(X_val_vect)\n",
    "model_4_pred_probs[:10] # only print out the first 10 prediction probabilities"
   ]
  },
  {
   "cell_type": "code",
   "execution_count": 38,
   "id": "ab121297",
   "metadata": {
    "execution": {
     "iopub.execute_input": "2024-06-11T02:42:09.919888Z",
     "iopub.status.busy": "2024-06-11T02:42:09.919441Z",
     "iopub.status.idle": "2024-06-11T02:42:09.929371Z",
     "shell.execute_reply": "2024-06-11T02:42:09.928242Z"
    },
    "id": "vTYwa1_cOZmR",
    "outputId": "80df2799-dd44-4549-e15c-96f2fcbf04c5",
    "papermill": {
     "duration": 0.438386,
     "end_time": "2024-06-11T02:42:09.932031",
     "exception": false,
     "start_time": "2024-06-11T02:42:09.493645",
     "status": "completed"
    },
    "tags": []
   },
   "outputs": [
    {
     "data": {
      "text/plain": [
       "<tf.Tensor: shape=(20,), dtype=float32, numpy=\n",
       "array([1., 1., 0., 0., 1., 1., 1., 0., 0., 1., 0., 1., 1., 0., 0., 1., 1.,\n",
       "       1., 1., 1.], dtype=float32)>"
      ]
     },
     "execution_count": 38,
     "metadata": {},
     "output_type": "execute_result"
    }
   ],
   "source": [
    "# Turn prediction probabilities into single-dimension tensor of floats\n",
    "model_4_preds = tf.squeeze(tf.round(model_4_pred_probs)) # squeeze removes single dimensions\n",
    "model_4_preds[:20]"
   ]
  },
  {
   "cell_type": "markdown",
   "id": "631b5659",
   "metadata": {
    "id": "Pbggc9ix7cfq",
    "papermill": {
     "duration": 0.416174,
     "end_time": "2024-06-11T02:42:10.834612",
     "exception": false,
     "start_time": "2024-06-11T02:42:10.418438",
     "status": "completed"
    },
    "tags": []
   },
   "source": [
    "# compare the models"
   ]
  },
  {
   "cell_type": "code",
   "execution_count": 39,
   "id": "b58d2e4a",
   "metadata": {
    "execution": {
     "iopub.execute_input": "2024-06-11T02:42:11.673338Z",
     "iopub.status.busy": "2024-06-11T02:42:11.672958Z",
     "iopub.status.idle": "2024-06-11T02:42:11.712939Z",
     "shell.execute_reply": "2024-06-11T02:42:11.711441Z"
    },
    "id": "Cdh8CowAHD6Q",
    "outputId": "58f9a4cd-40ab-4e46-a5f3-a345825af635",
    "papermill": {
     "duration": 0.462722,
     "end_time": "2024-06-11T02:42:11.715726",
     "exception": false,
     "start_time": "2024-06-11T02:42:11.253004",
     "status": "completed"
    },
    "tags": []
   },
   "outputs": [
    {
     "name": "stdout",
     "output_type": "stream",
     "text": [
      "Vanilla RNN (Elman networks):\n",
      "Accuracy: 82.41%\n",
      "Precision: 0.825\n",
      "Recall: 0.824\n",
      "F1 Score: 0.824\n",
      "----------------------------\n",
      "LSTM:\n",
      "Accuracy: 81.66%\n",
      "Precision: 0.819\n",
      "Recall: 0.817\n",
      "F1 Score: 0.817\n",
      "----------------------------\n",
      "GRU:\n",
      "Accuracy: 81.33%\n",
      "Precision: 0.816\n",
      "Recall: 0.813\n",
      "F1 Score: 0.813\n",
      "----------------------------\n",
      "Bidirectional RNN:\n",
      "Accuracy: 81.90%\n",
      "Precision: 0.820\n",
      "Recall: 0.819\n",
      "F1 Score: 0.819\n",
      "----------------------------\n"
     ]
    }
   ],
   "source": [
    "# Prepare the predictions for each model\n",
    "model_preds = {\n",
    "    \"Vanilla RNN (Elman networks)\": model_1_preds,\n",
    "    \"LSTM\": model_2_preds,\n",
    "    \"GRU\": model_3_preds,\n",
    "    \"Bidirectional RNN\": model_4_preds\n",
    "}\n",
    "\n",
    "# Calculate results for each model and store them\n",
    "model_results = {}\n",
    "for model_name, preds in model_preds.items():\n",
    "    model_results[model_name] = calculate_results(y_true=y_val, y_pred=preds)\n",
    "\n",
    "# Print the formatted metrics for each model\n",
    "for model_name, results in model_results.items():\n",
    "    print(f\"{model_name}:\")\n",
    "    print(f\"Accuracy: {results['accuracy']:.2f}%\")\n",
    "    print(f\"Precision: {results['precision']:.3f}\")\n",
    "    print(f\"Recall: {results['recall']:.3f}\")\n",
    "    print(f\"F1 Score: {results['f1']:.3f}\")\n",
    "    print(\"----------------------------\")"
   ]
  },
  {
   "cell_type": "code",
   "execution_count": 40,
   "id": "439c5f5c",
   "metadata": {
    "execution": {
     "iopub.execute_input": "2024-06-11T02:42:12.633885Z",
     "iopub.status.busy": "2024-06-11T02:42:12.633470Z",
     "iopub.status.idle": "2024-06-11T02:42:13.762189Z",
     "shell.execute_reply": "2024-06-11T02:42:13.760651Z"
    },
    "id": "hQ227BnDPe81",
    "outputId": "242e3d7c-8434-4304-962e-849966ef412b",
    "papermill": {
     "duration": 1.619181,
     "end_time": "2024-06-11T02:42:13.764709",
     "exception": false,
     "start_time": "2024-06-11T02:42:12.145528",
     "status": "completed"
    },
    "tags": []
   },
   "outputs": [
    {
     "data": {
      "image/png": "[encoded data removed]",
      "text/plain": [
       "<Figure size 1500x1000 with 4 Axes>"
      ]
     },
     "metadata": {},
     "output_type": "display_data"
    }
   ],
   "source": [
    "models = [\"Vanilla RNN\", \"LSTM\", \"GRU\", \"Bidirectional RNN\"]\n",
    "accuracies = [81.55, 81.55, 81.05, 80.22]\n",
    "precisions = [0.819, 0.815, 0.810, 0.802]\n",
    "recalls = [0.815, 0.815, 0.810, 0.802]\n",
    "f1_scores = [0.815, 0.815, 0.810, 0.802]\n",
    "\n",
    "# Create a 2x2 grid for the plots\n",
    "fig, axs = plt.subplots(2, 2, figsize=(15, 10))\n",
    "\n",
    "# Plot Accuracy\n",
    "axs[0, 0].bar(models, accuracies, color='skyblue')\n",
    "axs[0, 0].set_title('Accuracy')\n",
    "axs[0, 0].set_ylim([80, 82])\n",
    "\n",
    "# Plot Precision\n",
    "axs[0, 1].bar(models, precisions, color='lightgreen')\n",
    "axs[0, 1].set_title('Precision')\n",
    "axs[0, 1].set_ylim([0.8, 0.82])\n",
    "\n",
    "# Plot Recall\n",
    "axs[1, 0].bar(models, recalls, color='lightcoral')\n",
    "axs[1, 0].set_title('Recall')\n",
    "axs[1, 0].set_ylim([0.8, 0.82])\n",
    "\n",
    "# Plot F1 Score\n",
    "axs[1, 1].bar(models, f1_scores, color='gold')\n",
    "axs[1, 1].set_title('F1 Score')\n",
    "axs[1, 1].set_ylim([0.8, 0.82])\n",
    "\n",
    "plt.tight_layout()\n",
    "plt.show()"
   ]
  }
 ],
 "metadata": {
  "colab": {
   "provenance": []
  },
  "kaggle": {
   "accelerator": "none",
   "dataSources": [
    {
     "datasetId": 30764,
     "sourceId": 533474,
     "sourceType": "datasetVersion"
    }
   ],
   "dockerImageVersionId": 30673,
   "isGpuEnabled": false,
   "isInternetEnabled": true,
   "language": "python",
   "sourceType": "notebook"
  },
  "kernelspec": {
   "display_name": "Python 3",
   "language": "python",
   "name": "python3"
  },
  "language_info": {
   "codemirror_mode": {
    "name": "ipython",
    "version": 3
   },
   "file_extension": ".py",
   "mimetype": "text/x-python",
   "name": "python",
   "nbconvert_exporter": "python",
   "pygments_lexer": "ipython3",
   "version": "3.10.13"
  },
  "papermill": {
   "default_parameters": {},
   "duration": 317.694747,
   "end_time": "2024-06-11T02:42:16.890249",
   "environment_variables": {},
   "exception": null,
   "input_path": "__notebook__.ipynb",
   "output_path": "__notebook__.ipynb",
   "parameters": {},
   "start_time": "2024-06-11T02:36:59.195502",
   "version": "2.5.0"
  }
 },
 "nbformat": 4,
 "nbformat_minor": 5
}
